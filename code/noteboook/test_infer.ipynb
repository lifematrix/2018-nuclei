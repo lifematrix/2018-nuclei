{
 "cells": [
  {
   "cell_type": "code",
   "execution_count": 1,
   "metadata": {
    "collapsed": false,
    "deletable": true,
    "editable": true
   },
   "outputs": [
    {
     "name": "stdout",
     "output_type": "stream",
     "text": [
      "WARNING:tensorflow:From /usr/local/lib/python2.7/dist-packages/tensorflow/contrib/learn/python/learn/datasets/base.py:198: retry (from tensorflow.contrib.learn.python.learn.datasets.base) is deprecated and will be removed in a future version.\n",
      "Instructions for updating:\n",
      "Use the retry module or similar alternatives.\n"
     ]
    }
   ],
   "source": [
    "from aivis.tools.wrap import SegWrapper\n",
    "import tensorflow as tf\n",
    "from aivis.base.mlog import initlog\n",
    "import matplotlib.pylab as plt\n",
    "%matplotlib inline"
   ]
  },
  {
   "cell_type": "code",
   "execution_count": 2,
   "metadata": {
    "collapsed": true,
    "deletable": true,
    "editable": true
   },
   "outputs": [],
   "source": [
    "initlog()"
   ]
  },
  {
   "cell_type": "code",
   "execution_count": 3,
   "metadata": {
    "collapsed": false,
    "deletable": true,
    "editable": true
   },
   "outputs": [
    {
     "name": "stderr",
     "output_type": "stream",
     "text": [
      "[04/18/18 14:05:50(4393)] \u001b[32mINFO\u001b[0m\tparse model config: /home/steven/proj/steven/2018-nuclei/experiments/unet-3-256/net.yaml\n",
      "[04/18/18 14:05:50(4395)] \u001b[32mINFO\u001b[0m\tconfig content is: \n",
      "\n",
      "name: 2018-nuclei\n",
      "category: segmentation\n",
      "\n",
      "debug: False\n",
      "\n",
      "inputs:\n",
      "  image:\n",
      "    shape: [296, 296, 3]\n",
      "    colorspace: RGB\n",
      "    preprocess:\n",
      "      - center_crop:\n",
      "      #- channel_mean: [137.49, 134.30, 132.36]\n",
      "      - scale_by_div: 255.0\n",
      "  label:\n",
      "    n_classes: 2\n",
      "\n",
      "params:\n",
      "  - is_training: $$ tf.placeholder_with_default(False, shape=[]) $$\n",
      "  - first_keep_prob: $$ tf.placeholder_with_default(1.0, shape=[]) $$\n",
      "  - second_keep_prob: $$ tf.placeholder_with_default(1.0, shape=[]) $$\n",
      "\n",
      "network:\n",
      "  - input: image\n",
      "  - { subnet: UNet,\n",
      "      n_channels: 3, n_classes: $ n_classes $, n_layers: 3, is_training: $ is_training $, keep_prob: $ second_keep_prob $, padding: \"VALID\" }\n",
      "\n",
      "outputs:\n",
      "  inference: softmax\n",
      "  loss: logloss\n",
      "  pred: argmax\n",
      "\n",
      "[04/18/18 14:05:50(4407)] \u001b[32mINFO\u001b[0m\t{'first_keep_prob': <tf.Tensor 'PlaceholderWithDefault:0' shape=() dtype=float32>, 'second_keep_prob': <tf.Tensor 'PlaceholderWithDefault_1:0' shape=() dtype=float32>, 'is_training': <tf.Tensor 'PlaceholderWithDefault_2:0' shape=() dtype=bool>}\n",
      "[04/18/18 14:05:50(4505)] \u001b[32mINFO\u001b[0m\tinputs.shape: (?, 296, 296, 3)\n",
      "[04/18/18 14:05:50(4506)] \u001b[32mINFO\u001b[0m\tsubnet: UNet, args: {'padding': 'VALID', 'n_classes': 2, 'is_training': <tf.Tensor 'PlaceholderWithDefault_2:0' shape=() dtype=bool>, 'n_channels': 3, 'scope': '2018-nuclei/subnet-1', 'keep_prob': <tf.Tensor 'PlaceholderWithDefault_1:0' shape=() dtype=float32>, 'n_layers': 3}\n",
      "[04/18/18 14:05:50(4567)] \u001b[32mINFO\u001b[0m\tC-0-conv2d-1, shape: (?, 294, 294, 64)\n",
      "[04/18/18 14:05:50(4568)] \u001b[32mINFO\u001b[0m\tC-0-conv2d-2, shape: (?, 292, 292, 64)\n",
      "[04/18/18 14:05:50(4568)] \u001b[32mINFO\u001b[0m\tC-0-maxpool, shape: (?, 146, 146, 64)\n",
      "[04/18/18 14:05:50(4569)] \u001b[32mINFO\u001b[0m\tC-1-conv2d-1, shape: (?, 144, 144, 128)\n",
      "[04/18/18 14:05:50(4569)] \u001b[32mINFO\u001b[0m\tC-1-conv2d-2, shape: (?, 142, 142, 128)\n",
      "[04/18/18 14:05:50(4570)] \u001b[32mINFO\u001b[0m\tC-1-maxpool, shape: (?, 71, 71, 128)\n",
      "[04/18/18 14:05:50(4570)] \u001b[32mINFO\u001b[0m\tC-2-conv2d-1, shape: (?, 69, 69, 256)\n",
      "[04/18/18 14:05:50(4571)] \u001b[32mINFO\u001b[0m\tC-2-conv2d-2, shape: (?, 67, 67, 256)\n",
      "[04/18/18 14:05:50(4590)] \u001b[32mINFO\u001b[0m\tto_op.shape: (?, 134, 134, 128)\n",
      "[04/18/18 14:05:50(4591)] \u001b[32mINFO\u001b[0m\tcrop_and_concat, x1.shape: [None, 142, 142, 128], x2.shape: [None, 134, 134, 128]\n",
      "[04/18/18 14:05:50(4595)] \u001b[32mINFO\u001b[0m\tto_op.shape: (?, 134, 134, 256)\n",
      "[04/18/18 14:05:50(4638)] \u001b[32mINFO\u001b[0m\tto_op.shape: (?, 260, 260, 64)\n",
      "[04/18/18 14:05:50(4639)] \u001b[32mINFO\u001b[0m\tcrop_and_concat, x1.shape: [None, 292, 292, 64], x2.shape: [None, 260, 260, 64]\n",
      "[04/18/18 14:05:50(4643)] \u001b[32mINFO\u001b[0m\tto_op.shape: (?, 260, 260, 128)\n",
      "[04/18/18 14:05:50(4680)] \u001b[32mINFO\u001b[0m\tC-0-conv2d-1, shape: (?, 294, 294, 64)\n",
      "[04/18/18 14:05:50(4681)] \u001b[32mINFO\u001b[0m\tC-0-conv2d-2, shape: (?, 292, 292, 64)\n",
      "[04/18/18 14:05:50(4682)] \u001b[32mINFO\u001b[0m\tC-0-maxpool, shape: (?, 146, 146, 64)\n",
      "[04/18/18 14:05:50(4682)] \u001b[32mINFO\u001b[0m\tC-1-conv2d-1, shape: (?, 144, 144, 128)\n",
      "[04/18/18 14:05:50(4683)] \u001b[32mINFO\u001b[0m\tC-1-conv2d-2, shape: (?, 142, 142, 128)\n",
      "[04/18/18 14:05:50(4683)] \u001b[32mINFO\u001b[0m\tC-1-maxpool, shape: (?, 71, 71, 128)\n",
      "[04/18/18 14:05:50(4684)] \u001b[32mINFO\u001b[0m\tC-2-conv2d-1, shape: (?, 69, 69, 256)\n",
      "[04/18/18 14:05:50(4684)] \u001b[32mINFO\u001b[0m\tC-2-conv2d-2, shape: (?, 67, 67, 256)\n",
      "[04/18/18 14:05:50(4685)] \u001b[32mINFO\u001b[0m\tE-1-concat, shape: (?, 134, 134, 256)\n",
      "[04/18/18 14:05:50(4686)] \u001b[32mINFO\u001b[0m\tE-1-conv2d-0, shape: (?, 132, 132, 128)\n",
      "[04/18/18 14:05:50(4687)] \u001b[32mINFO\u001b[0m\tE-1-conv2d-1, shape: (?, 130, 130, 128)\n",
      "[04/18/18 14:05:50(4688)] \u001b[32mINFO\u001b[0m\tE-0-concat, shape: (?, 260, 260, 128)\n",
      "[04/18/18 14:05:50(4688)] \u001b[32mINFO\u001b[0m\tE-0-conv2d-0, shape: (?, 258, 258, 64)\n",
      "[04/18/18 14:05:50(4689)] \u001b[32mINFO\u001b[0m\tE-0-conv2d-1, shape: (?, 256, 256, 64)\n",
      "[04/18/18 14:05:50(4689)] \u001b[32mINFO\u001b[0m\toutmap, shape: (?, 256, 256, 2)\n",
      "[04/18/18 14:05:50(4690)] \u001b[32mINFO\u001b[0m\t===== input label.shape: Tensor(\"placeholder/input/label_1:0\", shape=(?, 296, 296), dtype=int64)\n",
      "[04/18/18 14:05:50(4692)] \u001b[32mINFO\u001b[0m\tcrop, x1.shape: Tensor(\"Shape:0\", shape=(3,), dtype=int32), x2.shape: Tensor(\"Shape_1:0\", shape=(4,), dtype=int32)\n",
      "[04/18/18 14:05:50(4725)] \u001b[32mINFO\u001b[0m\tshape of label, logits: (?, 2), (?, 2)\n",
      "[04/18/18 14:05:52(6483)] \u001b[32mINFO\u001b[0m\trestore check point file /home/steven/proj/steven/2018-nuclei/log/unet-3-256/20180418-120415/best/model.ckpt-495\n"
     ]
    },
    {
     "name": "stdout",
     "output_type": "stream",
     "text": [
      "INFO:tensorflow:Restoring parameters from /home/steven/proj/steven/2018-nuclei/log/unet-3-256/20180418-120415/best/model.ckpt-495\n"
     ]
    },
    {
     "name": "stderr",
     "output_type": "stream",
     "text": [
      "[04/18/18 14:05:52(6485)] \u001b[32mINFO\u001b[0m\tRestoring parameters from /home/steven/proj/steven/2018-nuclei/log/unet-3-256/20180418-120415/best/model.ckpt-495\n"
     ]
    }
   ],
   "source": [
    "with tf.Graph().as_default() as graph:\n",
    "    seg = SegWrapper(config_file=\"/home/steven/proj/steven/2018-nuclei/experiments/unet-3-256/net.yaml\",\n",
    "                    checkpoint_file=\"/home/steven/proj/steven/2018-nuclei/log/unet-3-256/20180418-120415/best/model.ckpt-495\",\n",
    "                    original_image_shape=[296,296,3], graph=graph)"
   ]
  },
  {
   "cell_type": "code",
   "execution_count": 3,
   "metadata": {
    "collapsed": false
   },
   "outputs": [
    {
     "name": "stderr",
     "output_type": "stream",
     "text": [
      "[04/19/18 00:03:38(68505)] \u001b[32mINFO\u001b[0m\tparse model config: /home/steven/proj/steven/2018-nuclei/experiments/unet-3-256/net.yaml\n",
      "[04/19/18 00:03:38(68519)] \u001b[32mINFO\u001b[0m\tconfig content is: \n",
      "\n",
      "name: 2018-nuclei\n",
      "category: segmentation\n",
      "\n",
      "debug: False\n",
      "\n",
      "inputs:\n",
      "  image:\n",
      "    shape: [256, 256, 3]\n",
      "    colorspace: RGB\n",
      "    preprocess:\n",
      "      - center_crop:\n",
      "      #- channel_mean: [137.49, 134.30, 132.36]\n",
      "      - scale_by_div: 255.0\n",
      "  label:\n",
      "    n_classes: 2\n",
      "\n",
      "params:\n",
      "  - is_training: $$ tf.placeholder_with_default(False, shape=[]) $$\n",
      "  - first_keep_prob: $$ tf.placeholder_with_default(1.0, shape=[]) $$\n",
      "  - second_keep_prob: $$ tf.placeholder_with_default(1.0, shape=[]) $$\n",
      "\n",
      "network:\n",
      "  - input: image\n",
      "  - { subnet: UNet,\n",
      "      n_channels: 3, n_classes: $ n_classes $, n_layers: 5, is_training: $ is_training $, keep_prob: $ second_keep_prob $, padding: \"SAME\" }\n",
      "\n",
      "outputs:\n",
      "  inference: softmax\n",
      "  loss: logloss\n",
      "  pred: argmax\n",
      "\n",
      "[04/19/18 00:03:38(68532)] \u001b[32mINFO\u001b[0m\t{'first_keep_prob': <tf.Tensor 'PlaceholderWithDefault:0' shape=() dtype=float32>, 'second_keep_prob': <tf.Tensor 'PlaceholderWithDefault_1:0' shape=() dtype=float32>, 'is_training': <tf.Tensor 'PlaceholderWithDefault_2:0' shape=() dtype=bool>}\n",
      "[04/19/18 00:03:38(68624)] \u001b[32mINFO\u001b[0m\tinputs.shape: (?, 256, 256, 3)\n",
      "[04/19/18 00:03:38(68626)] \u001b[32mINFO\u001b[0m\tsubnet: UNet, args: {'padding': 'SAME', 'n_classes': 2, 'is_training': <tf.Tensor 'PlaceholderWithDefault_2:0' shape=() dtype=bool>, 'n_channels': 3, 'scope': '2018-nuclei/subnet-1', 'keep_prob': <tf.Tensor 'PlaceholderWithDefault_1:0' shape=() dtype=float32>, 'n_layers': 5}\n",
      "[04/19/18 00:03:38(68629)] \u001b[32mINFO\u001b[0m\tn_layers: 5, image_shape: [256, 256, 3], offset: 188, output_offset: 4\n",
      "[04/19/18 00:03:38(68731)] \u001b[32mINFO\u001b[0m\tC-0-conv2d-1, shape: (?, 256, 256, 64)\n",
      "[04/19/18 00:03:38(68732)] \u001b[32mINFO\u001b[0m\tC-0-conv2d-2, shape: (?, 256, 256, 64)\n",
      "[04/19/18 00:03:38(68732)] \u001b[32mINFO\u001b[0m\tC-0-maxpool, shape: (?, 128, 128, 64)\n",
      "[04/19/18 00:03:38(68733)] \u001b[32mINFO\u001b[0m\tC-1-conv2d-1, shape: (?, 128, 128, 128)\n",
      "[04/19/18 00:03:38(68734)] \u001b[32mINFO\u001b[0m\tC-1-conv2d-2, shape: (?, 128, 128, 128)\n",
      "[04/19/18 00:03:38(68734)] \u001b[32mINFO\u001b[0m\tC-1-maxpool, shape: (?, 64, 64, 128)\n",
      "[04/19/18 00:03:38(68735)] \u001b[32mINFO\u001b[0m\tC-2-conv2d-1, shape: (?, 64, 64, 256)\n",
      "[04/19/18 00:03:38(68735)] \u001b[32mINFO\u001b[0m\tC-2-conv2d-2, shape: (?, 64, 64, 256)\n",
      "[04/19/18 00:03:38(68736)] \u001b[32mINFO\u001b[0m\tC-2-maxpool, shape: (?, 32, 32, 256)\n",
      "[04/19/18 00:03:38(68737)] \u001b[32mINFO\u001b[0m\tC-3-conv2d-1, shape: (?, 32, 32, 512)\n",
      "[04/19/18 00:03:38(68737)] \u001b[32mINFO\u001b[0m\tC-3-conv2d-2, shape: (?, 32, 32, 512)\n",
      "[04/19/18 00:03:38(68738)] \u001b[32mINFO\u001b[0m\tC-3-maxpool, shape: (?, 16, 16, 512)\n",
      "[04/19/18 00:03:38(68739)] \u001b[32mINFO\u001b[0m\tC-4-conv2d-1, shape: (?, 16, 16, 1024)\n",
      "[04/19/18 00:03:38(68739)] \u001b[32mINFO\u001b[0m\tC-4-conv2d-2, shape: (?, 16, 16, 1024)\n",
      "[04/19/18 00:03:38(68765)] \u001b[32mINFO\u001b[0m\tto_op.shape: (?, 32, 32, 512)\n",
      "[04/19/18 00:03:38(68766)] \u001b[32mINFO\u001b[0m\tcrop_and_concat, x1.shape: [None, 32, 32, 512], x2.shape: [None, 32, 32, 512]\n",
      "[04/19/18 00:03:38(68771)] \u001b[32mINFO\u001b[0m\tto_op.shape: (?, 32, 32, 1024)\n"
     ]
    },
    {
     "name": "stdout",
     "output_type": "stream",
     "text": [
      "Layer 5, 8\n",
      "Layer 5, 20\n"
     ]
    },
    {
     "name": "stderr",
     "output_type": "stream",
     "text": [
      "[04/19/18 00:03:38(68911)] \u001b[32mINFO\u001b[0m\tto_op.shape: (?, 64, 64, 256)\n",
      "[04/19/18 00:03:38(68912)] \u001b[32mINFO\u001b[0m\tcrop_and_concat, x1.shape: [None, 64, 64, 256], x2.shape: [None, 64, 64, 256]\n",
      "[04/19/18 00:03:38(68918)] \u001b[32mINFO\u001b[0m\tto_op.shape: (?, 64, 64, 512)\n",
      "[04/19/18 00:03:38(68961)] \u001b[32mINFO\u001b[0m\tto_op.shape: (?, 128, 128, 128)\n",
      "[04/19/18 00:03:38(68962)] \u001b[32mINFO\u001b[0m\tcrop_and_concat, x1.shape: [None, 128, 128, 128], x2.shape: [None, 128, 128, 128]\n",
      "[04/19/18 00:03:38(68972)] \u001b[32mINFO\u001b[0m\tto_op.shape: (?, 128, 128, 256)\n",
      "[04/19/18 00:03:38(69032)] \u001b[32mINFO\u001b[0m\tto_op.shape: (?, 256, 256, 64)\n",
      "[04/19/18 00:03:38(69032)] \u001b[32mINFO\u001b[0m\tcrop_and_concat, x1.shape: [None, 256, 256, 64], x2.shape: [None, 256, 256, 64]\n",
      "[04/19/18 00:03:38(69037)] \u001b[32mINFO\u001b[0m\tto_op.shape: (?, 256, 256, 128)\n",
      "[04/19/18 00:03:38(69075)] \u001b[32mINFO\u001b[0m\tC-0-conv2d-1, shape: (?, 256, 256, 64)\n",
      "[04/19/18 00:03:38(69076)] \u001b[32mINFO\u001b[0m\tC-0-conv2d-2, shape: (?, 256, 256, 64)\n",
      "[04/19/18 00:03:38(69077)] \u001b[32mINFO\u001b[0m\tC-0-maxpool, shape: (?, 128, 128, 64)\n",
      "[04/19/18 00:03:38(69077)] \u001b[32mINFO\u001b[0m\tC-1-conv2d-1, shape: (?, 128, 128, 128)\n",
      "[04/19/18 00:03:38(69078)] \u001b[32mINFO\u001b[0m\tC-1-conv2d-2, shape: (?, 128, 128, 128)\n",
      "[04/19/18 00:03:38(69079)] \u001b[32mINFO\u001b[0m\tC-1-maxpool, shape: (?, 64, 64, 128)\n",
      "[04/19/18 00:03:38(69080)] \u001b[32mINFO\u001b[0m\tC-2-conv2d-1, shape: (?, 64, 64, 256)\n",
      "[04/19/18 00:03:38(69081)] \u001b[32mINFO\u001b[0m\tC-2-conv2d-2, shape: (?, 64, 64, 256)\n",
      "[04/19/18 00:03:38(69082)] \u001b[32mINFO\u001b[0m\tC-2-maxpool, shape: (?, 32, 32, 256)\n",
      "[04/19/18 00:03:38(69083)] \u001b[32mINFO\u001b[0m\tC-3-conv2d-1, shape: (?, 32, 32, 512)\n",
      "[04/19/18 00:03:38(69085)] \u001b[32mINFO\u001b[0m\tC-3-conv2d-2, shape: (?, 32, 32, 512)\n",
      "[04/19/18 00:03:38(69085)] \u001b[32mINFO\u001b[0m\tC-3-maxpool, shape: (?, 16, 16, 512)\n",
      "[04/19/18 00:03:38(69086)] \u001b[32mINFO\u001b[0m\tC-4-conv2d-1, shape: (?, 16, 16, 1024)\n",
      "[04/19/18 00:03:38(69087)] \u001b[32mINFO\u001b[0m\tC-4-conv2d-2, shape: (?, 16, 16, 1024)\n",
      "[04/19/18 00:03:38(69088)] \u001b[32mINFO\u001b[0m\tE-3-concat, shape: (?, 32, 32, 1024)\n",
      "[04/19/18 00:03:38(69088)] \u001b[32mINFO\u001b[0m\tE-3-conv2d-0, shape: (?, 32, 32, 512)\n",
      "[04/19/18 00:03:38(69089)] \u001b[32mINFO\u001b[0m\tE-3-conv2d-1, shape: (?, 32, 32, 512)\n",
      "[04/19/18 00:03:38(69090)] \u001b[32mINFO\u001b[0m\tE-2-concat, shape: (?, 64, 64, 512)\n",
      "[04/19/18 00:03:38(69090)] \u001b[32mINFO\u001b[0m\tE-2-conv2d-0, shape: (?, 64, 64, 256)\n",
      "[04/19/18 00:03:38(69091)] \u001b[32mINFO\u001b[0m\tE-2-conv2d-1, shape: (?, 64, 64, 256)\n",
      "[04/19/18 00:03:38(69091)] \u001b[32mINFO\u001b[0m\tE-1-concat, shape: (?, 128, 128, 256)\n",
      "[04/19/18 00:03:38(69092)] \u001b[32mINFO\u001b[0m\tE-1-conv2d-0, shape: (?, 128, 128, 128)\n",
      "[04/19/18 00:03:38(69092)] \u001b[32mINFO\u001b[0m\tE-1-conv2d-1, shape: (?, 128, 128, 128)\n",
      "[04/19/18 00:03:38(69093)] \u001b[32mINFO\u001b[0m\tE-0-concat, shape: (?, 256, 256, 128)\n",
      "[04/19/18 00:03:38(69093)] \u001b[32mINFO\u001b[0m\tE-0-conv2d-0, shape: (?, 256, 256, 64)\n",
      "[04/19/18 00:03:38(69094)] \u001b[32mINFO\u001b[0m\tE-0-conv2d-1, shape: (?, 256, 256, 64)\n",
      "[04/19/18 00:03:38(69094)] \u001b[32mINFO\u001b[0m\toutmap, shape: (?, 256, 256, 2)\n",
      "[04/19/18 00:03:38(69105)] \u001b[32mINFO\u001b[0m\tshape of label, logits: (?, 2), (?, 2)\n",
      "[04/19/18 00:03:40(70920)] \u001b[32mINFO\u001b[0m\trestore check point file /home/steven/proj/steven/2018-nuclei/log/unet-3-256/20180418-163919/best/model.ckpt-12400\n"
     ]
    },
    {
     "name": "stdout",
     "output_type": "stream",
     "text": [
      "INFO:tensorflow:Restoring parameters from /home/steven/proj/steven/2018-nuclei/log/unet-3-256/20180418-163919/best/model.ckpt-12400\n"
     ]
    },
    {
     "name": "stderr",
     "output_type": "stream",
     "text": [
      "[04/19/18 00:03:40(70921)] \u001b[32mINFO\u001b[0m\tRestoring parameters from /home/steven/proj/steven/2018-nuclei/log/unet-3-256/20180418-163919/best/model.ckpt-12400\n"
     ]
    }
   ],
   "source": [
    "with tf.Graph().as_default() as graph:\n",
    "    seg = SegWrapper(config_file=\"/home/steven/proj/steven/2018-nuclei/experiments/unet-3-256/net.yaml\",\n",
    "                    checkpoint_file=\"/home/steven/proj/steven/2018-nuclei/log/unet-3-256/20180418-163919/best/model.ckpt-12400\",\n",
    "                    original_image_shape=[256,256,3], graph=graph)"
   ]
  },
  {
   "cell_type": "code",
   "execution_count": 4,
   "metadata": {
    "collapsed": true,
    "deletable": true,
    "editable": true
   },
   "outputs": [],
   "source": [
    "import glob\n",
    "import os\n",
    "import numpy as np\n",
    "import logging\n",
    "import cv2\n",
    "import math\n",
    "import cPickle as pickle\n",
    "import matplotlib.pylab as plt\n",
    "import gc\n",
    "\n",
    "from tf_unet import image_gen\n",
    "from tf_unet import unet\n",
    "from tf_unet import util\n",
    "from tf_unet import image_util\n",
    "\n",
    "def get_dataset(pkl_fname):\n",
    "    with open(pkl_fname, \"rb\") as f:\n",
    "        ds = pickle.load(f)\n",
    "\n",
    "    n_parts = sum(len(v) for v in ds.values())\n",
    "    logging.info(\"n_parts: %d\", n_parts)\n",
    "\n",
    "    images = []\n",
    "    masks = []\n",
    "\n",
    "    n_err = 0\n",
    "    for key, value in ds.items():\n",
    "        for i, d in enumerate(value):\n",
    "            if np.max(d['img']) == 0:\n",
    "                logging.info('skip: %s, # %s', key, i)\n",
    "                n_err += 1\n",
    "                continue\n",
    "            images.append(d['img'])\n",
    "            masks.append(d['mask'])\n",
    "\n",
    "    images = np.array(images)\n",
    "    masks = np.array(masks, dtype=np.uint8)\n",
    "    # images = scipy.sparse.csr_matrix(images, dtype=np.float32)\n",
    "    # masks = scipy.sparse.csr_matrix(masks, dtype=np.bool)\n",
    "    # max_v = np.max(images)\n",
    "    # if max_v > 0.0:\n",
    "    #     images /= max_v\n",
    "\n",
    "    del ds\n",
    "    logging.info(\"valid images: #%d, err: #%d\", len(images), n_err)\n",
    "    return images, masks\n",
    "\n",
    "def padding_array(ary, offset, default_val):\n",
    "    logging.info(\"ary.shape: %s\", ary.shape)\n",
    "    gc.collect()\n",
    "    p1 = offset/2\n",
    "    p2 = offset - p1\n",
    "\n",
    "    psize = [(p1, p2),(p1, p2)]\n",
    "    if len(ary.shape) == 3:\n",
    "        psize.insert(0, (0, 0))\n",
    "    elif len(ary.shape) == 4:\n",
    "        psize.insert(0, (0, 0))\n",
    "        psize.append((0, 0))\n",
    "\n",
    "    logging.info(\"psize: %s\", psize)\n",
    "    ary_padded = np.pad(ary, psize, \"constant\", constant_values=default_val)\n",
    "\n",
    "    return ary_padded\n",
    "\n",
    "\n",
    "\n",
    "def unet_size(s, L):\n",
    "    s0 = s\n",
    "    for i in range(L - 1):\n",
    "        s = (s - 4) / 2\n",
    "        print(\"layer %d, %d\" % (i + 1, s))\n",
    "    s -= 4\n",
    "    print(\"Layer %d, %d\" % (L, s))\n",
    "    for i in range(L - 2, -1, -1):\n",
    "        s = s * 2 - 4\n",
    "        print(\"Layer %d, %d\" % (i + 1, s))\n",
    "\n",
    "    return s, s0 - s\n"
   ]
  },
  {
   "cell_type": "code",
   "execution_count": 5,
   "metadata": {
    "collapsed": false,
    "deletable": true,
    "editable": true
   },
   "outputs": [
    {
     "name": "stderr",
     "output_type": "stream",
     "text": [
      "[04/19/18 00:04:35(125817)] \u001b[32mINFO\u001b[0m\tn_parts: 2224\n",
      "[04/19/18 00:04:35(125908)] \u001b[32mINFO\u001b[0m\tskip: 20b20ab049372d184c705acebe7af026d3580f5fd5a72ed796e3622e1685af2f, # 3\n",
      "[04/19/18 00:04:35(125909)] \u001b[32mINFO\u001b[0m\tskip: 20b20ab049372d184c705acebe7af026d3580f5fd5a72ed796e3622e1685af2f, # 4\n",
      "[04/19/18 00:04:35(125910)] \u001b[32mINFO\u001b[0m\tskip: 20b20ab049372d184c705acebe7af026d3580f5fd5a72ed796e3622e1685af2f, # 8\n",
      "[04/19/18 00:04:35(125911)] \u001b[32mINFO\u001b[0m\tskip: 20b20ab049372d184c705acebe7af026d3580f5fd5a72ed796e3622e1685af2f, # 9\n",
      "[04/19/18 00:04:35(125912)] \u001b[32mINFO\u001b[0m\tskip: 20b20ab049372d184c705acebe7af026d3580f5fd5a72ed796e3622e1685af2f, # 13\n",
      "[04/19/18 00:04:35(125913)] \u001b[32mINFO\u001b[0m\tskip: 20b20ab049372d184c705acebe7af026d3580f5fd5a72ed796e3622e1685af2f, # 14\n",
      "[04/19/18 00:04:35(125915)] \u001b[32mINFO\u001b[0m\tskip: a102535b0e88374bea4a1cfd9ee7cb3822ff54f4ab2a9845d428ec22f9ee2288, # 0\n",
      "[04/19/18 00:04:35(125916)] \u001b[32mINFO\u001b[0m\tskip: a102535b0e88374bea4a1cfd9ee7cb3822ff54f4ab2a9845d428ec22f9ee2288, # 5\n",
      "[04/19/18 00:04:35(125918)] \u001b[32mINFO\u001b[0m\tskip: a102535b0e88374bea4a1cfd9ee7cb3822ff54f4ab2a9845d428ec22f9ee2288, # 10\n",
      "[04/19/18 00:04:35(125919)] \u001b[32mINFO\u001b[0m\tskip: cb4df20a83b2f38b394c67f1d9d4aef29f9794d5345da3576318374ec3a11490, # 3\n",
      "[04/19/18 00:04:35(125920)] \u001b[32mINFO\u001b[0m\tskip: cb4df20a83b2f38b394c67f1d9d4aef29f9794d5345da3576318374ec3a11490, # 4\n",
      "[04/19/18 00:04:35(125921)] \u001b[32mINFO\u001b[0m\tskip: cb4df20a83b2f38b394c67f1d9d4aef29f9794d5345da3576318374ec3a11490, # 8\n",
      "[04/19/18 00:04:35(125922)] \u001b[32mINFO\u001b[0m\tskip: cb4df20a83b2f38b394c67f1d9d4aef29f9794d5345da3576318374ec3a11490, # 9\n",
      "[04/19/18 00:04:35(125923)] \u001b[32mINFO\u001b[0m\tskip: cb4df20a83b2f38b394c67f1d9d4aef29f9794d5345da3576318374ec3a11490, # 13\n",
      "[04/19/18 00:04:35(125924)] \u001b[32mINFO\u001b[0m\tskip: cb4df20a83b2f38b394c67f1d9d4aef29f9794d5345da3576318374ec3a11490, # 14\n",
      "[04/19/18 00:04:35(125993)] \u001b[32mINFO\u001b[0m\tskip: f29fd9c52e04403cd2c7d43b6fe2479292e53b2f61969d25256d2d2aca7c6a81, # 4\n",
      "[04/19/18 00:04:35(125997)] \u001b[32mINFO\u001b[0m\tskip: f29fd9c52e04403cd2c7d43b6fe2479292e53b2f61969d25256d2d2aca7c6a81, # 9\n",
      "[04/19/18 00:04:35(126000)] \u001b[32mINFO\u001b[0m\tskip: f29fd9c52e04403cd2c7d43b6fe2479292e53b2f61969d25256d2d2aca7c6a81, # 14\n",
      "[04/19/18 00:04:35(126087)] \u001b[32mINFO\u001b[0m\tskip: f4c4db3df4ff0de90f44b027fc2e28c16bf7e5c75ea75b0a9762bbb7ac86e7a3, # 3\n",
      "[04/19/18 00:04:35(126088)] \u001b[32mINFO\u001b[0m\tskip: f4c4db3df4ff0de90f44b027fc2e28c16bf7e5c75ea75b0a9762bbb7ac86e7a3, # 4\n",
      "[04/19/18 00:04:35(126090)] \u001b[32mINFO\u001b[0m\tskip: f4c4db3df4ff0de90f44b027fc2e28c16bf7e5c75ea75b0a9762bbb7ac86e7a3, # 8\n",
      "[04/19/18 00:04:35(126090)] \u001b[32mINFO\u001b[0m\tskip: f4c4db3df4ff0de90f44b027fc2e28c16bf7e5c75ea75b0a9762bbb7ac86e7a3, # 9\n",
      "[04/19/18 00:04:35(126093)] \u001b[32mINFO\u001b[0m\tskip: f4c4db3df4ff0de90f44b027fc2e28c16bf7e5c75ea75b0a9762bbb7ac86e7a3, # 13\n",
      "[04/19/18 00:04:35(126097)] \u001b[32mINFO\u001b[0m\tskip: f4c4db3df4ff0de90f44b027fc2e28c16bf7e5c75ea75b0a9762bbb7ac86e7a3, # 14\n",
      "[04/19/18 00:04:35(126312)] \u001b[32mINFO\u001b[0m\tvalid images: #2200, err: #24\n",
      "[04/19/18 00:04:35(126313)] \u001b[32mINFO\u001b[0m\tread train set: (2200, 256, 256, 3), (2200, 256, 256)\n",
      "[04/19/18 00:04:36(126940)] \u001b[32mINFO\u001b[0m\timage:[255, 0], mask:[1, 0]\n"
     ]
    }
   ],
   "source": [
    "np.random.seed(12345)\n",
    "LAYERS = 3\n",
    "pkl_fname = \"../../data/preprocess/stage1_train_set_rgb.pkl\"\n",
    "images, masks = get_dataset(pkl_fname)\n",
    "logging.info(\"read train set: %s, %s\", images.shape, masks.shape)\n",
    "logging.info(\"image:[%s, %s], mask:[%s, %s]\", np.max(images), np.min(images), np.max(masks), np.min(masks))\n",
    "\n",
    "# pred_size, offset = unet_size(256, LAYERS)\n",
    "# logging.info(\"pred_size: %d, offset: %d\", pred_size, offset)\n",
    "# images = padding_array(images, offset, default_val=0.0)\n",
    "# masks = padding_array(masks, offset, default_val=False)\n",
    "# logging.info(\"shape after padded: %s, %s\", images.shape, masks.shape)\n"
   ]
  },
  {
   "cell_type": "code",
   "execution_count": 6,
   "metadata": {
    "collapsed": false,
    "deletable": true,
    "editable": true
   },
   "outputs": [
    {
     "data": {
      "text/plain": [
       "<matplotlib.image.AxesImage at 0x7f6a3c076d10>"
      ]
     },
     "execution_count": 6,
     "metadata": {},
     "output_type": "execute_result"
    },
    {
     "data": {
      "image/png": "[encoded data removed]",
      "text/plain": [
       "<matplotlib.figure.Figure at 0x7f6b5d53fb90>"
      ]
     },
     "metadata": {},
     "output_type": "display_data"
    }
   ],
   "source": [
    "plt.imshow((images[-1]/50.0))"
   ]
  },
  {
   "cell_type": "code",
   "execution_count": 7,
   "metadata": {
    "collapsed": false,
    "deletable": true,
    "editable": true
   },
   "outputs": [
    {
     "data": {
      "text/plain": [
       "50"
      ]
     },
     "execution_count": 7,
     "metadata": {},
     "output_type": "execute_result"
    }
   ],
   "source": [
    "np.max(images[-1])"
   ]
  },
  {
   "cell_type": "code",
   "execution_count": 8,
   "metadata": {
    "collapsed": false,
    "deletable": true,
    "editable": true
   },
   "outputs": [
    {
     "data": {
      "text/plain": [
       "<matplotlib.image.AxesImage at 0x7f69a25f9190>"
      ]
     },
     "execution_count": 8,
     "metadata": {},
     "output_type": "execute_result"
    },
    {
     "data": {
      "image/png": "[encoded data removed]",
      "text/plain": [
       "<matplotlib.figure.Figure at 0x7f6a78016350>"
      ]
     },
     "metadata": {},
     "output_type": "display_data"
    }
   ],
   "source": [
    "plt.imshow(masks[-1])"
   ]
  },
  {
   "cell_type": "code",
   "execution_count": 33,
   "metadata": {
    "collapsed": false,
    "deletable": true,
    "editable": true
   },
   "outputs": [
    {
     "data": {
      "text/plain": [
       "<matplotlib.image.AxesImage at 0x7f6988a7ead0>"
      ]
     },
     "execution_count": 33,
     "metadata": {},
     "output_type": "execute_result"
    },
    {
     "data": {
      "image/png": "[encoded data removed]",
      "text/plain": [
       "<matplotlib.figure.Figure at 0x7f6988bfd150>"
      ]
     },
     "metadata": {},
     "output_type": "display_data"
    }
   ],
   "source": [
    "idx = -90\n",
    "fig, ax = plt.subplots(1, 3, figsize=(12,5))\n",
    "ax[0].imshow((images[idx]/np.max(images[idx]))*255)\n",
    "ax[1].imshow(masks[idx])\n",
    "a = seg.infer_one(images[idx])[0]\n",
    "a = np.argmax(a, axis=2)*255\n",
    "ax[2].imshow(a)"
   ]
  },
  {
   "cell_type": "code",
   "execution_count": null,
   "metadata": {
    "collapsed": true
   },
   "outputs": [],
   "source": []
  },
  {
   "cell_type": "code",
   "execution_count": 45,
   "metadata": {
    "collapsed": false,
    "deletable": true,
    "editable": true
   },
   "outputs": [
    {
     "data": {
      "text/plain": [
       "(296, 296, 3)"
      ]
     },
     "execution_count": 45,
     "metadata": {},
     "output_type": "execute_result"
    }
   ],
   "source": [
    "images[idx].shape"
   ]
  },
  {
   "cell_type": "code",
   "execution_count": 35,
   "metadata": {
    "collapsed": true,
    "deletable": true,
    "editable": true
   },
   "outputs": [],
   "source": [
    "import tensorflow.contrib.slim as slim"
   ]
  },
  {
   "cell_type": "code",
   "execution_count": 36,
   "metadata": {
    "collapsed": true
   },
   "outputs": [],
   "source": [
    "?slim.batch_norm"
   ]
  },
  {
   "cell_type": "code",
   "execution_count": 37,
   "metadata": {
    "collapsed": true
   },
   "outputs": [],
   "source": [
    "def fn(a, b, c):\n",
    "    return a+b+c"
   ]
  },
  {
   "cell_type": "code",
   "execution_count": 40,
   "metadata": {
    "collapsed": false
   },
   "outputs": [
    {
     "data": {
      "text/plain": [
       "25"
      ]
     },
     "execution_count": 40,
     "metadata": {},
     "output_type": "execute_result"
    }
   ],
   "source": [
    "args = {'b': 10, 'c':5}\n",
    "fn(a=10, **args)"
   ]
  },
  {
   "cell_type": "code",
   "execution_count": null,
   "metadata": {
    "collapsed": true
   },
   "outputs": [],
   "source": []
  }
 ],
 "metadata": {
  "kernelspec": {
   "display_name": "Python 2",
   "language": "python",
   "name": "python2"
  },
  "language_info": {
   "codemirror_mode": {
    "name": "ipython",
    "version": 2
   },
   "file_extension": ".py",
   "mimetype": "text/x-python",
   "name": "python",
   "nbconvert_exporter": "python",
   "pygments_lexer": "ipython2",
   "version": "2.7.12"
  }
 },
 "nbformat": 4,
 "nbformat_minor": 2
}
